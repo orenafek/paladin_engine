{
 "cells": [
  {
   "cell_type": "code",
   "execution_count": null,
   "metadata": {},
   "outputs": [],
   "source": [
    "import pandas as pd\n",
    "import paladin_diff_tool"
   ]
  },
  {
   "cell_type": "code",
   "execution_count": null,
   "metadata": {
    "pycharm": {
     "name": "#%%\n"
    }
   },
   "outputs": [],
   "source": [
    "table_info_1 = paladin_diff_tool.TableInfo(csv_file_path=\"move_zeros_1.csv\", suffix=\"_1\")\n",
    "table_info_2 = paladin_diff_tool.TableInfo(csv_file_path=\"move_zeros_2.csv\", suffix=\"_2\")"
   ]
  },
  {
   "cell_type": "code",
   "execution_count": null,
   "metadata": {
    "pycharm": {
     "name": "#%%\n"
    }
   },
   "outputs": [],
   "source": [
    "table1 = paladin_diff_tool.get_data(\n",
    "    table_info=table_info_1,\n",
    "    query_vars=[\"i\", \"k\", \"nums[i]\", \"result\"]\n",
    ")\n",
    "table1"
   ]
  },
  {
   "cell_type": "code",
   "execution_count": null,
   "metadata": {
    "pycharm": {
     "name": "#%%\n"
    }
   },
   "outputs": [],
   "source": [
    "table2 = paladin_diff_tool.get_data(\n",
    "    table_info=table_info_2,\n",
    "    query_vars=[\"j\", \"i\", \"nums[j]\", \"result\"]\n",
    ")\n",
    "table2"
   ]
  },
  {
   "cell_type": "code",
   "execution_count": null,
   "metadata": {
    "pycharm": {
     "name": "#%%\n"
    }
   },
   "outputs": [],
   "source": [
    "merged, match_indices, diff_indices = paladin_diff_tool.merge_tables(\n",
    "    table_info_1=table_info_1,\n",
    "    table_info_2=table_info_2,\n",
    "    table1=table1,\n",
    "    table2=table2,\n",
    "    merge_condition_1=[\"i\", \"k\", \"nums[i]\"],\n",
    "    merge_condition_2=[\"j\", \"i\", \"nums[j]\"],\n",
    "    result_condition_1=[\"result\"],\n",
    "    result_condition_2=[\"result\"]\n",
    ")\n",
    "merged"
   ]
  },
  {
   "cell_type": "code",
   "execution_count": null,
   "metadata": {
    "pycharm": {
     "name": "#%%\n"
    }
   },
   "outputs": [],
   "source": [
    "merged.style\\\n",
    "    .set_properties(subset=pd.IndexSlice[merged.loc[match_indices].index,], **{'background-color': paladin_diff_tool.GREEN_COLOR})\\\n",
    "    .set_properties(subset=pd.IndexSlice[merged.loc[diff_indices].index,], **{'background-color': paladin_diff_tool.RED_COLOR})\\\n",
    "    .format(na_rep='', precision=2, subset=[\"i_1\", \"k_1\", \"i_2\", \"j_2\"])"
   ]
  },
  {
   "cell_type": "code",
   "execution_count": null,
   "metadata": {
    "pycharm": {
     "name": "#%%\n"
    }
   },
   "outputs": [],
   "source": [
    "\n"
   ]
  }
 ],
 "metadata": {
  "kernelspec": {
   "display_name": "Python 3 (ipykernel)",
   "language": "python",
   "name": "python3"
  },
  "language_info": {
   "codemirror_mode": {
    "name": "ipython",
    "version": 3
   },
   "file_extension": ".py",
   "mimetype": "text/x-python",
   "name": "python",
   "nbconvert_exporter": "python",
   "pygments_lexer": "ipython3",
   "version": "3.10.0"
  }
 },
 "nbformat": 4,
 "nbformat_minor": 1
}