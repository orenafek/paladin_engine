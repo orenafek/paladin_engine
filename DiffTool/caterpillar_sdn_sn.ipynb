{
 "cells": [
  {
   "cell_type": "code",
   "execution_count": null,
   "metadata": {},
   "outputs": [],
   "source": [
    "import pandas as pd\n",
    "import paladin_diff_tool"
   ]
  },
  {
   "cell_type": "code",
   "execution_count": null,
   "metadata": {
    "pycharm": {
     "name": "#%%\n"
    }
   },
   "outputs": [],
   "source": [
    "table1 = paladin_diff_tool.get_data(\n",
    "    csv_file_path=\"caterpillar_super_duper_naive.csv\",\n",
    "    query_vars=[\"total_slices\",\"i\",\"j\", \"sdn\"],\n",
    "    suffix=\"_1\"\n",
    ")\n",
    "table1"
   ]
  },
  {
   "cell_type": "code",
   "execution_count": null,
   "metadata": {
    "pycharm": {
     "name": "#%%\n"
    }
   },
   "outputs": [],
   "source": [
    "table2 = paladin_diff_tool.get_data(\n",
    "    csv_file_path=\"caterpillar_super_naive.csv\",\n",
    "    query_vars=[\"total_slices\",\"i\",\"j\", \"sn\"],\n",
    "    suffix=\"_2\"\n",
    ")\n",
    "table2"
   ]
  },
  {
   "cell_type": "code",
   "execution_count": null,
   "metadata": {
    "pycharm": {
     "name": "#%%\n"
    }
   },
   "outputs": [],
   "source": [
    "merged, match_indices, diff_indices = paladin_diff_tool.merge_tables(\n",
    "    table1=table1,\n",
    "    table2=table2,\n",
    "    merge_condition_1=[\"total_slices\",\"i\",\"j\"],\n",
    "    merge_condition_2=[\"total_slices\",\"i\",\"j\"],\n",
    "    result_condition_1=[\"sdn\"],\n",
    "    result_condition_2=[\"sn\"],\n",
    "    suffix1=\"_1\",\n",
    "    suffix2=\"_2\"\n",
    ")\n",
    "merged"
   ]
  },
  {
   "cell_type": "code",
   "execution_count": null,
   "metadata": {
    "pycharm": {
     "name": "#%%\n"
    }
   },
   "outputs": [],
   "source": [
    "merged.style\\\n",
    "    .set_properties(subset=pd.IndexSlice[merged.loc[match_indices].index,], **{'background-color': paladin_diff_tool.GREEN_COLOR})\\\n",
    "    .set_properties(subset=pd.IndexSlice[merged.loc[diff_indices].index,], **{'background-color': paladin_diff_tool.RED_COLOR})\\\n",
    "    .format(na_rep='', precision=2)"
   ]
  },
  {
   "cell_type": "code",
   "execution_count": null,
   "metadata": {
    "pycharm": {
     "name": "#%%\n"
    }
   },
   "outputs": [],
   "source": []
  }
 ],
 "metadata": {
  "kernelspec": {
   "display_name": "Python 3 (ipykernel)",
   "language": "python",
   "name": "python3"
  },
  "language_info": {
   "codemirror_mode": {
    "name": "ipython",
    "version": 3
   },
   "file_extension": ".py",
   "mimetype": "text/x-python",
   "name": "python",
   "nbconvert_exporter": "python",
   "pygments_lexer": "ipython3",
   "version": "3.10.0"
  }
 },
 "nbformat": 4,
 "nbformat_minor": 1
}