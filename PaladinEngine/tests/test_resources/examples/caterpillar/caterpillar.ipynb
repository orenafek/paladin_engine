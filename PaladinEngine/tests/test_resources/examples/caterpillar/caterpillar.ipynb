{
 "cells": [
  {
   "cell_type": "code",
   "execution_count": 1,
   "id": "c9848896-dc5a-4bae-a091-55a22786f794",
   "metadata": {},
   "outputs": [
    {
     "name": "stdout",
     "output_type": "stream",
     "text": [
      "0 0\n",
      "0 1\n",
      "0 2\n",
      "0 3\n",
      "1 1\n",
      "1 2\n",
      "1 3\n",
      "2 2\n",
      "2 3\n",
      "2 4\n",
      "3 3\n",
      "3 4\n",
      "4 4\n",
      "total slices = 13\n"
     ]
    }
   ],
   "source": [
    "sample = [3,4,2,5,4]\n",
    "\n",
    "def naive(a):   # straightforward solution O(n^2)\n",
    "    n = len(a)\n",
    "    i, j = 0, 0\n",
    "    total_slices = 0\n",
    "    seen = set()\n",
    "    while j < n:\n",
    "        seen = seen | set([a[j]])\n",
    "        total_slices += 1\n",
    "        print(i, j)\n",
    "        if j == n - 1 or a[j + 1] in seen:\n",
    "            i += 1\n",
    "            j = i\n",
    "            seen = set()\n",
    "        else:\n",
    "            j += 1\n",
    "            \n",
    "    return total_slices\n",
    "\n",
    "            \n",
    "print('total slices =', naive(sample))"
   ]
  },
  {
   "cell_type": "code",
   "execution_count": 11,
   "id": "c775e382-bbd5-46f8-bc9e-a7cd5b78a406",
   "metadata": {},
   "outputs": [
    {
     "name": "stdout",
     "output_type": "stream",
     "text": [
      "0 0\n",
      "0 1\n",
      "0 2\n",
      "0 3\n",
      "middle 4\n",
      "kij 4 0 3\n",
      "kij 2 2 3\n",
      "--- 2\n",
      "2 4\n",
      "end 3\n",
      "total slices = 13.0\n"
     ]
    }
   ],
   "source": [
    "def caterp(a):   # better solution O(n)\n",
    "    n = len(a)\n",
    "    i, j = 0, 0\n",
    "    k = 1\n",
    "    total_slices = 0\n",
    "    seen = set()\n",
    "    while j < n:\n",
    "        seen = seen | set([a[j]])\n",
    "        print(i, j)\n",
    "        if j == n - 1:\n",
    "            print('end', k)\n",
    "            total_slices += k * (k + 1) / 2\n",
    "        elif a[j + 1] in seen:  #a[j+1] is already in range i..j \n",
    "            print('middle', k)\n",
    "                \n",
    "            #total_slices += plus1over2(k)  # k * (k + 1) / 2\n",
    "            print('kij', k, i, j)\n",
    "            i0 = i\n",
    "            while a[j + 1] in seen:\n",
    "                seen = seen - set([a[i]])\n",
    "                i += 1\n",
    "                k -= 1\n",
    "             \n",
    "            print('kij', k, i, j)\n",
    "\n",
    "            #total_slices -= plus1over2(k)   # k * (k + 1) / 2\n",
    "            total_slices += plus1over2(j + 1 - i0) - plus1over2(j + 1 - i)\n",
    "            #total_slices += (2 * (j + 1) - (i + i0) - 1) * (i - i0) / 2\n",
    "                \n",
    "            print('---', k)\n",
    "        k += 1\n",
    "        j += 1\n",
    "        \n",
    "    return total_slices\n",
    "\n",
    "\n",
    "def plus1over2(k):\n",
    "    return k * (k + 1) / 2\n",
    "\n",
    "print('total slices =', caterp(sample))"
   ]
  },
  {
   "cell_type": "code",
   "execution_count": null,
   "id": "eb5e747e-1cfd-4629-acef-38b900c5d7c3",
   "metadata": {},
   "outputs": [],
   "source": []
  }
 ],
 "metadata": {
  "kernelspec": {
   "display_name": "Python 3 (ipykernel)",
   "language": "python",
   "name": "python3"
  },
  "language_info": {
   "codemirror_mode": {
    "name": "ipython",
    "version": 3
   },
   "file_extension": ".py",
   "mimetype": "text/x-python",
   "name": "python",
   "nbconvert_exporter": "python",
   "pygments_lexer": "ipython3",
   "version": "3.10.2"
  }
 },
 "nbformat": 4,
 "nbformat_minor": 5
}
